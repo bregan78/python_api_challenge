{
 "cells": [
  {
   "cell_type": "code",
   "execution_count": 1,
   "metadata": {},
   "outputs": [],
   "source": [
    "# Dependencies and Setup\n",
    "import matplotlib.pyplot as plt\n",
    "import pandas as pd\n",
    "import numpy as np\n",
    "import requests\n",
    "import gmaps\n",
    "import os\n",
    "\n",
    "# Import API key\n",
    "from api_keys import g_key\n",
    "\n",
    "#configure gmaps\n",
    "gmaps.configure(api_key=g_key)"
   ]
  },
  {
   "cell_type": "code",
   "execution_count": 6,
   "metadata": {},
   "outputs": [
    {
     "data": {
      "text/html": [
       "<div>\n",
       "<style scoped>\n",
       "    .dataframe tbody tr th:only-of-type {\n",
       "        vertical-align: middle;\n",
       "    }\n",
       "\n",
       "    .dataframe tbody tr th {\n",
       "        vertical-align: top;\n",
       "    }\n",
       "\n",
       "    .dataframe thead th {\n",
       "        text-align: right;\n",
       "    }\n",
       "</style>\n",
       "<table border=\"1\" class=\"dataframe\">\n",
       "  <thead>\n",
       "    <tr style=\"text-align: right;\">\n",
       "      <th></th>\n",
       "      <th>Unnamed: 0</th>\n",
       "      <th>City</th>\n",
       "      <th>Lat</th>\n",
       "      <th>Lng</th>\n",
       "      <th>Max Temp</th>\n",
       "      <th>Humidity</th>\n",
       "      <th>Cloudiness</th>\n",
       "      <th>Wind Speed</th>\n",
       "      <th>Country</th>\n",
       "      <th>Date</th>\n",
       "    </tr>\n",
       "  </thead>\n",
       "  <tbody>\n",
       "    <tr>\n",
       "      <th>0</th>\n",
       "      <td>0</td>\n",
       "      <td>saint-dizier</td>\n",
       "      <td>48.42</td>\n",
       "      <td>5.08</td>\n",
       "      <td>283.15</td>\n",
       "      <td>71</td>\n",
       "      <td>63</td>\n",
       "      <td>2.60</td>\n",
       "      <td>FR</td>\n",
       "      <td>1602699436</td>\n",
       "    </tr>\n",
       "    <tr>\n",
       "      <th>1</th>\n",
       "      <td>1</td>\n",
       "      <td>albany</td>\n",
       "      <td>42.60</td>\n",
       "      <td>-73.97</td>\n",
       "      <td>293.15</td>\n",
       "      <td>34</td>\n",
       "      <td>0</td>\n",
       "      <td>3.99</td>\n",
       "      <td>US</td>\n",
       "      <td>1602699190</td>\n",
       "    </tr>\n",
       "    <tr>\n",
       "      <th>2</th>\n",
       "      <td>2</td>\n",
       "      <td>eldorado</td>\n",
       "      <td>-23.79</td>\n",
       "      <td>-54.28</td>\n",
       "      <td>310.65</td>\n",
       "      <td>25</td>\n",
       "      <td>31</td>\n",
       "      <td>3.11</td>\n",
       "      <td>BR</td>\n",
       "      <td>1602699438</td>\n",
       "    </tr>\n",
       "    <tr>\n",
       "      <th>3</th>\n",
       "      <td>3</td>\n",
       "      <td>aurillac</td>\n",
       "      <td>44.92</td>\n",
       "      <td>2.45</td>\n",
       "      <td>280.37</td>\n",
       "      <td>93</td>\n",
       "      <td>90</td>\n",
       "      <td>2.10</td>\n",
       "      <td>FR</td>\n",
       "      <td>1602699440</td>\n",
       "    </tr>\n",
       "    <tr>\n",
       "      <th>4</th>\n",
       "      <td>4</td>\n",
       "      <td>biak</td>\n",
       "      <td>-0.91</td>\n",
       "      <td>122.88</td>\n",
       "      <td>298.76</td>\n",
       "      <td>79</td>\n",
       "      <td>99</td>\n",
       "      <td>2.43</td>\n",
       "      <td>ID</td>\n",
       "      <td>1602699441</td>\n",
       "    </tr>\n",
       "  </tbody>\n",
       "</table>\n",
       "</div>"
      ],
      "text/plain": [
       "   Unnamed: 0          City    Lat     Lng  Max Temp  Humidity  Cloudiness  \\\n",
       "0           0  saint-dizier  48.42    5.08    283.15        71          63   \n",
       "1           1        albany  42.60  -73.97    293.15        34           0   \n",
       "2           2      eldorado -23.79  -54.28    310.65        25          31   \n",
       "3           3      aurillac  44.92    2.45    280.37        93          90   \n",
       "4           4          biak  -0.91  122.88    298.76        79          99   \n",
       "\n",
       "   Wind Speed Country        Date  \n",
       "0        2.60      FR  1602699436  \n",
       "1        3.99      US  1602699190  \n",
       "2        3.11      BR  1602699438  \n",
       "3        2.10      FR  1602699440  \n",
       "4        2.43      ID  1602699441  "
      ]
     },
     "execution_count": 6,
     "metadata": {},
     "output_type": "execute_result"
    }
   ],
   "source": [
    "df= pd.read_csv(\"../WeatherPy/WeatherPy_removed_DidNotFind_Rows.csv\")\n",
    "new_df=pd.DataFrame(df)\n",
    "new_df.head()\n",
    "\n"
   ]
  },
  {
   "cell_type": "markdown",
   "metadata": {},
   "source": [
    "fig=gmaps.figure()\n",
    "heatmap_layer=gmaps.heatmap_layer(\n",
    "    new_df(['Lat', 'Lng']), weights=new_df['Humidity'], max_intensity=30, point_radius=3.0)\n",
    "fig.add_layer(heatmap_layer)\n",
    "fig\n"
   ]
  },
  {
   "cell_type": "code",
   "execution_count": 16,
   "metadata": {},
   "outputs": [
    {
     "data": {
      "application/vnd.jupyter.widget-view+json": {
       "model_id": "e854b202e5ad4f7aa9bdea495ef64df5",
       "version_major": 2,
       "version_minor": 0
      },
      "text/plain": [
       "Figure(layout=FigureLayout(height='420px'))"
      ]
     },
     "metadata": {},
     "output_type": "display_data"
    }
   ],
   "source": [
    "fig=gmaps.figure() \n",
    "heatmap_layer=gmaps.heatmap_layer( \n",
    "    new_df[['Lat', 'Lng']], weights=new_df['Humidity'], \n",
    "     point_radius=5.0) \n",
    "fig.add_layer(heatmap_layer) \n",
    "fig"
   ]
  },
  {
   "cell_type": "code",
   "execution_count": null,
   "metadata": {},
   "outputs": [],
   "source": []
  }
 ],
 "metadata": {
  "kernelspec": {
   "display_name": "Python 3",
   "language": "python",
   "name": "python3"
  },
  "language_info": {
   "codemirror_mode": {
    "name": "ipython",
    "version": 3
   },
   "file_extension": ".py",
   "mimetype": "text/x-python",
   "name": "python",
   "nbconvert_exporter": "python",
   "pygments_lexer": "ipython3",
   "version": "3.6.10"
  }
 },
 "nbformat": 4,
 "nbformat_minor": 4
}
